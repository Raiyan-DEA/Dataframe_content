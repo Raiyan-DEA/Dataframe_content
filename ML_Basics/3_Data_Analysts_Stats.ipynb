{
  "nbformat": 4,
  "nbformat_minor": 0,
  "metadata": {
    "colab": {
      "provenance": [],
      "authorship_tag": "ABX9TyNG+Z2JWwD1Qwb4mZDIJTiz",
      "include_colab_link": true
    },
    "kernelspec": {
      "name": "python3",
      "display_name": "Python 3"
    },
    "language_info": {
      "name": "python"
    }
  },
  "cells": [
    {
      "cell_type": "markdown",
      "metadata": {
        "id": "view-in-github",
        "colab_type": "text"
      },
      "source": [
        "<a href=\"https://colab.research.google.com/github/Raiyan-DEA/Dataframe_content/blob/main/3_Data_Analysts_Stats.ipynb\" target=\"_parent\"><img src=\"https://colab.research.google.com/assets/colab-badge.svg\" alt=\"Open In Colab\"/></a>"
      ]
    },
    {
      "cell_type": "code",
      "execution_count": 15,
      "metadata": {
        "id": "PMJAAuuW5Ehw",
        "colab": {
          "base_uri": "https://localhost:8080/"
        },
        "outputId": "e9486062-60b7-4d8f-c7a9-12533766c734"
      },
      "outputs": [
        {
          "output_type": "stream",
          "name": "stdout",
          "text": [
            "   CustomerID  MonthlyCharges  TenureMonths Churned ChargeBucket\n",
            "0           1           79.93             2      No       Medium\n",
            "1           2           67.23            17      No       Medium\n",
            "2           3           82.95            33      No       Medium\n",
            "3           4          100.46             9      No         High\n",
            "4           5           65.32            43      No       Medium\n",
            "5           6           65.32            48      No       Medium\n",
            "6           7          101.58            39      No         High\n",
            "7           8           85.35            42     Yes       Medium\n",
            "8           9           60.61            26      No       Medium\n",
            "9          10           80.85            50      No       Medium\n"
          ]
        }
      ],
      "source": [
        "import pandas as pd\n",
        "import seaborn as sns\n",
        "import matplotlib.pyplot as plt\n",
        "\n",
        "\n",
        "df = pd.read_csv('/content/customer_transaction_data.csv')\n",
        "\n",
        "# Preview the data\n",
        "print(df.head(10))"
      ]
    },
    {
      "cell_type": "code",
      "source": [
        "# Central Tendency Measures\n",
        "mean = df['MonthlyCharges'].mean()\n",
        "median = df['MonthlyCharges'].median()\n",
        "mode = df['MonthlyCharges'].mode()[0]  # mode() returns a Series\n",
        "\n",
        "print(f\"Mean: {mean:.2f}\")\n",
        "print(f\"Median: {median:.2f}\")\n",
        "print(f\"Mode: {mode:.2f}\")\n",
        "\n",
        "# Spread / Dispersion Measures\n",
        "std_dev = df['MonthlyCharges'].std()\n",
        "variance = df['MonthlyCharges'].var()\n",
        "range_val = df['MonthlyCharges'].max() - df['MonthlyCharges'].min()\n",
        "iqr = df['MonthlyCharges'].quantile(0.75) - df['MonthlyCharges'].quantile(0.25)\n",
        "\n",
        "print(f\"Standard Deviation: {std_dev:.2f}\")\n",
        "print(f\"Variance: {variance:.2f}\")\n",
        "print(f\"Range: {range_val:.2f}\")\n",
        "print(f\"IQR (Interquartile Range): {iqr:.2f}\")\n"
      ],
      "metadata": {
        "colab": {
          "base_uri": "https://localhost:8080/"
        },
        "id": "AD0nK56hutAG",
        "outputId": "2f4571a7-8ad1-45da-ed38-8d535166f1b0"
      },
      "execution_count": 16,
      "outputs": [
        {
          "output_type": "stream",
          "name": "stdout",
          "text": [
            "Mean: 72.91\n",
            "Median: 71.18\n",
            "Mode: 65.32\n",
            "Standard Deviation: 31.83\n",
            "Variance: 1012.99\n",
            "Range: 323.82\n",
            "IQR (Interquartile Range): 25.96\n"
          ]
        }
      ]
    },
    {
      "cell_type": "code",
      "source": [
        "df.describe()\n",
        "\n",
        "# Skewness and Kurtosis\n",
        "print(\"Skewness:\\n\", df.skew(numeric_only=True))\n",
        "print(\"\\n Kurtosis:\\n\", df.kurtosis(numeric_only=True))\n",
        "\n",
        "# Visualize distributions\n",
        "sns.histplot(df['MonthlyCharges'], kde=True)\n",
        "plt.title(\"Monthly Charges Distribution\")\n",
        "plt.show()\n"
      ],
      "metadata": {
        "id": "SFT-t0s_5bLL"
      },
      "execution_count": null,
      "outputs": []
    },
    {
      "cell_type": "code",
      "source": [
        "print(df)"
      ],
      "metadata": {
        "colab": {
          "base_uri": "https://localhost:8080/"
        },
        "id": "GJyeKWG7_Pfm",
        "outputId": "d9302dfd-a686-48f1-eefd-0b241a7cc5ca"
      },
      "execution_count": 17,
      "outputs": [
        {
          "output_type": "stream",
          "name": "stdout",
          "text": [
            "     CustomerID  MonthlyCharges  TenureMonths Churned ChargeBucket\n",
            "0             1           79.93             2      No       Medium\n",
            "1             2           67.23            17      No       Medium\n",
            "2             3           82.95            33      No       Medium\n",
            "3             4          100.46             9      No         High\n",
            "4             5           65.32            43      No       Medium\n",
            "..          ...             ...           ...     ...          ...\n",
            "195         196           77.71             5     Yes       Medium\n",
            "196         197           52.32            29     Yes          Low\n",
            "197         198           73.07            37      No       Medium\n",
            "198         199           71.16            38     Yes       Medium\n",
            "199         200           47.14             8      No          Low\n",
            "\n",
            "[200 rows x 5 columns]\n"
          ]
        }
      ]
    },
    {
      "cell_type": "code",
      "source": [
        "# IQR Method\n",
        "Q1 = df['MonthlyCharges'].quantile(0.25)\n",
        "Q3 = df['MonthlyCharges'].quantile(0.75)\n",
        "IQR = Q3 - Q1\n",
        "\n",
        "# Filter outliers\n",
        "outliers_iqr = df[(df['MonthlyCharges'] < (Q1 - 1.7 * IQR)) | (df['MonthlyCharges'] > (Q3 + 1.7 * IQR))]\n",
        "print(f\"{outliers_iqr}\")\n",
        "print(f\"Outliers using IQR method: {len(outliers_iqr)}\")\n",
        "\n",
        "# Z-Score Method\n",
        "from scipy.stats import zscore\n",
        "df['z_score'] = zscore(df['MonthlyCharges'])\n",
        "outliers_z = df[df['z_score'].abs() > 3]\n",
        "print(f\"Outliers using Z-score method: {len(outliers_z)}\")\n"
      ],
      "metadata": {
        "id": "4hLku0LB5b2r",
        "colab": {
          "base_uri": "https://localhost:8080/"
        },
        "outputId": "d0602103-d763-4796-d6a8-98e1f45eb5c8"
      },
      "execution_count": 20,
      "outputs": [
        {
          "output_type": "stream",
          "name": "stdout",
          "text": [
            "     CustomerID  MonthlyCharges  TenureMonths Churned ChargeBucket   z_score\n",
            "24           25          177.33            66     Yes    Very High  3.289196\n",
            "43           44          191.94            53      No    Very High  3.749384\n",
            "85           86          179.88            62     Yes    Very High  3.369517\n",
            "125         126          341.43            46      No    Very High  8.458046\n",
            "144         145          225.60            23     Yes    Very High  4.809613\n",
            "Outliers using IQR method: 5\n",
            "Outliers using Z-score method: 5\n"
          ]
        }
      ]
    },
    {
      "cell_type": "code",
      "source": [
        "# P(Churned = Yes)\n",
        "p_churn = (df['Churned'] == 'Yes').mean()\n",
        "print(f\"P(Churned = Yes): {p_churn:.2f}\")\n",
        "\n",
        "# # Conditional Probability: P(Churned = Yes | MonthlyCharges > 100)\n",
        "# high_charge = df['MonthlyCharges'] > 100\n",
        "# p_churn_given_high_charge = ((df['Churned'] == 'Yes') & high_charge).sum() / high_charge.sum()\n",
        "# print(f\"P(Churned | MonthlyCharges > 100): {p_churn_given_high_charge:.2f}\")\n"
      ],
      "metadata": {
        "id": "aJ2U1A3q5gm1"
      },
      "execution_count": null,
      "outputs": []
    },
    {
      "cell_type": "code",
      "source": [
        "# Churn Rate by Monthly Charge Range\n",
        "df['ChargeBucket'] = pd.cut(df['MonthlyCharges'], bins=[0, 60, 90, 120, df['MonthlyCharges'].max()])\n",
        "churn_by_bucket = df.groupby('ChargeBucket')['Churned'].value_counts(normalize=True).unstack()\n",
        "\n",
        "churn_by_bucket.plot(kind='bar', stacked=True)\n",
        "plt.title('Churn Rate by Monthly Charge Bucket')\n",
        "plt.ylabel('Proportion')\n",
        "plt.show()\n"
      ],
      "metadata": {
        "id": "T3b2YbVJ5i59"
      },
      "execution_count": null,
      "outputs": []
    },
    {
      "cell_type": "code",
      "source": [
        "sample_means = [df['MonthlyCharges'].sample(30).mean() for _ in range(1000)]\n",
        "print(sample_means)\n",
        "\n",
        "# sns.histplot(sample_means, kde=True)\n",
        "# plt.title(\"Sampling Distribution of the Mean (CLT)\")\n",
        "# plt.xlabel(\"Sample Mean of Monthly Charges\")\n",
        "# plt.show()"
      ],
      "metadata": {
        "id": "tAmo1rP3Wei2"
      },
      "execution_count": null,
      "outputs": []
    },
    {
      "cell_type": "code",
      "source": [
        "correlation = df[['MonthlyCharges', 'TenureMonths']].corr()\n",
        "print(\"Correlation Matrix:\")\n",
        "print(correlation)\n",
        "\n",
        "sns.heatmap(correlation, annot=True, cmap='coolwarm')\n",
        "plt.title(\"Correlation Matrix\")\n",
        "plt.show()\n"
      ],
      "metadata": {
        "colab": {
          "base_uri": "https://localhost:8080/",
          "height": 523
        },
        "id": "mkZJLcPmW1BW",
        "outputId": "4ab2a4f1-eff1-4acc-ce5d-f1ea8fcc34ad"
      },
      "execution_count": 21,
      "outputs": [
        {
          "output_type": "stream",
          "name": "stdout",
          "text": [
            "Correlation Matrix:\n",
            "                MonthlyCharges  TenureMonths\n",
            "MonthlyCharges        1.000000      0.028376\n",
            "TenureMonths          0.028376      1.000000\n"
          ]
        },
        {
          "output_type": "display_data",
          "data": {
            "text/plain": [
              "<Figure size 640x480 with 2 Axes>"
            ],
            "image/png": "[encoded data removed]"
          },
          "metadata": {}
        }
      ]
    },
    {
      "cell_type": "code",
      "source": [
        "from scipy.stats import ttest_ind\n",
        "\n",
        "churned = df[df['Churned'] == 'Yes']['MonthlyCharges']\n",
        "not_churned = df[df['Churned'] == 'No']['MonthlyCharges']\n",
        "\n",
        "t_stat, p_value = ttest_ind(churned, not_churned)\n",
        "\n",
        "print(f\"T-Statistic: {t_stat:.2f}\")\n",
        "print(f\"P-Value: {p_value:.4f}\")\n",
        "\n",
        "if p_value < 0.05:\n",
        "    print(\"Result: Statistically significant difference in charges between churned and not churned.\")\n",
        "else:\n",
        "    print(\"Result: No significant difference.\")\n"
      ],
      "metadata": {
        "id": "Xks_x1DjW-cN"
      },
      "execution_count": null,
      "outputs": []
    },
    {
      "cell_type": "code",
      "source": [
        "# Boxplot + Histogram\n",
        "fig, ax = plt.subplots(2, 1, figsize=(10, 6))\n",
        "sns.boxplot(x=df['MonthlyCharges'], ax=ax[0], color='orange')\n",
        "sns.histplot(df['MonthlyCharges'], kde=True, ax=ax[1], color='blue')\n",
        "plt.tight_layout()\n",
        "plt.show()\n"
      ],
      "metadata": {
        "id": "U81WX04zmwJm"
      },
      "execution_count": null,
      "outputs": []
    },
    {
      "cell_type": "code",
      "source": [
        "df['ChargeBucket'] = pd.cut(df['MonthlyCharges'], bins=[0, 60, 90, 120, df['MonthlyCharges'].max()],\n",
        "                            labels=['Low', 'Medium', 'High', 'Very High'])\n"
      ],
      "metadata": {
        "id": "abL6eUCEnHME"
      },
      "execution_count": null,
      "outputs": []
    },
    {
      "cell_type": "code",
      "source": [
        "fig, ax = plt.subplots(1, 1, figsize=(6, 6))\n",
        "sns.histplot(df['ChargeBucket'], kde=True, color='blue')\n",
        "plt.show()"
      ],
      "metadata": {
        "id": "BvGrdHmOnLMD"
      },
      "execution_count": null,
      "outputs": []
    },
    {
      "cell_type": "code",
      "source": [],
      "metadata": {
        "id": "SehtntfXoWQO"
      },
      "execution_count": null,
      "outputs": []
    }
  ]
}
